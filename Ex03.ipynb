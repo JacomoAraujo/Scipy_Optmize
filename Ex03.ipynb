{
  "nbformat": 4,
  "nbformat_minor": 0,
  "metadata": {
    "colab": {
      "provenance": []
    },
    "kernelspec": {
      "name": "python3",
      "display_name": "Python 3"
    },
    "language_info": {
      "name": "python"
    }
  },
  "cells": [
    {
      "cell_type": "code",
      "execution_count": 1,
      "metadata": {
        "id": "xN81w30jZTwM"
      },
      "outputs": [],
      "source": [
        "import scipy.optimize as sco"
      ]
    },
    {
      "cell_type": "code",
      "source": [
        "c = [40,120,0,0,50,20,100]\n",
        "Aub = [[-2,-1,0,0,0,-1,0],\n",
        "       [0,-1,-3,0,-2,0,-1],\n",
        "       [0,0,0,-4,-1,-2,-2]]\n",
        "\n",
        "bub = [[-30,-60,-48]]\n",
        "resultados = sco.linprog(c,\n",
        "                         A_ub=Aub,\n",
        "                         b_ub=bub,\n",
        "                         bounds=(0,None),\n",
        "                         )"
      ],
      "metadata": {
        "id": "Z6XlJ_aZZsl2"
      },
      "execution_count": 2,
      "outputs": []
    },
    {
      "cell_type": "code",
      "source": [
        "resultados['x']"
      ],
      "metadata": {
        "colab": {
          "base_uri": "https://localhost:8080/"
        },
        "id": "VASgf52rZsoQ",
        "outputId": "8b908c0b-8257-4075-c2d5-ec2f38a44ffb"
      },
      "execution_count": 3,
      "outputs": [
        {
          "output_type": "execute_result",
          "data": {
            "text/plain": [
              "array([15.,  0., 20., 12.,  0.,  0.,  0.])"
            ]
          },
          "metadata": {},
          "execution_count": 3
        }
      ]
    }
  ]
}